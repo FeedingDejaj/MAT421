{
  "nbformat": 4,
  "nbformat_minor": 0,
  "metadata": {
    "colab": {
      "provenance": [],
      "authorship_tag": "ABX9TyNGlyPGggvbvymscDGf5wDX",
      "include_colab_link": true
    },
    "kernelspec": {
      "name": "python3",
      "display_name": "Python 3"
    },
    "language_info": {
      "name": "python"
    }
  },
  "cells": [
    {
      "cell_type": "markdown",
      "metadata": {
        "id": "view-in-github",
        "colab_type": "text"
      },
      "source": [
        "<a href=\"https://colab.research.google.com/github/FeedingDejaj/MAT421/blob/main/ModJ.ipynb\" target=\"_parent\"><img src=\"https://colab.research.google.com/assets/colab-badge.svg\" alt=\"Open In Colab\"/></a>"
      ]
    },
    {
      "cell_type": "markdown",
      "source": [
        "# 4.1 If-Else Statements\n",
        "\n",
        "- A simple if-statement runs its block only when a condition is true; otherwise it skips it.\n",
        "- You can extend with `elif` to test additional conditions in order, and a final `else` to catch all remaining cases.\n",
        "- Indentation is significant: all lines in a branch must align under the `if`/`elif`/`else` keyword.\n",
        "- Nested ifs allow branching within branches for multi-level decision logic.\n"
      ],
      "metadata": {
        "id": "RaaiNXfczdn9"
      }
    },
    {
      "cell_type": "code",
      "execution_count": 1,
      "metadata": {
        "colab": {
          "base_uri": "https://localhost:8080/"
        },
        "id": "80KsRuKZzH1M",
        "outputId": "125e4e6a-60e6-4f83-b12c-4c00c7f0f696"
      },
      "outputs": [
        {
          "output_type": "stream",
          "name": "stdout",
          "text": [
            "Heat\n",
            "AC\n",
            "off\n"
          ]
        }
      ],
      "source": [
        "def thermo(temp, desired_temp):\n",
        "    if temp < desired_temp - 5:\n",
        "        status = 'Heat'\n",
        "    elif temp > desired_temp + 5:\n",
        "        status = 'AC'\n",
        "    else:\n",
        "        status = 'off'\n",
        "    return status\n",
        "\n",
        "tests = [(65, 75), (75, 65), (65, 63)]\n",
        "for temp, desired in tests:\n",
        "    print(thermo(temp, desired))\n"
      ]
    },
    {
      "cell_type": "markdown",
      "source": [
        "\n",
        "\n",
        "---\n",
        "\n"
      ],
      "metadata": {
        "id": "U_-0XL8D0Drp"
      }
    },
    {
      "cell_type": "markdown",
      "source": [
        "# 4.2 Ternary Operators\n",
        "\n",
        "- Python’s ternary operator uses the syntax  \n",
        "  `<true_value> if <condition> else <false_value>`  \n",
        "  to choose one of two expressions based on a Boolean test.\n",
        "- It evaluates `<condition>` first; if True, it returns `<true_value>`, otherwise it returns `<false_value>`.\n",
        "- You can nest ternaries for multi-way selection:  \n",
        "  `<A> if cond1 else <B> if cond2 else <C>`  \n",
        "\n"
      ],
      "metadata": {
        "id": "jSm8NgFr0EZd"
      }
    },
    {
      "cell_type": "code",
      "source": [
        "sign = lambda x: 'positive' if x > 0 else ('zero' if x == 0 else 'negative')\n",
        "for x in [-5, 0, 7, -1]:\n",
        "    print(x, sign(x))\n"
      ],
      "metadata": {
        "colab": {
          "base_uri": "https://localhost:8080/"
        },
        "id": "tuO93nxc0Hcy",
        "outputId": "4c2e4519-685b-4382-8c54-36659c582c96"
      },
      "execution_count": 2,
      "outputs": [
        {
          "output_type": "stream",
          "name": "stdout",
          "text": [
            "-5 negative\n",
            "0 zero\n",
            "7 positive\n",
            "-1 negative\n"
          ]
        }
      ]
    }
  ]
}